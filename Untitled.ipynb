{
 "cells": [
  {
   "cell_type": "markdown",
   "id": "f6897731-aa8d-41be-94a8-bd0a846064c8",
   "metadata": {},
   "source": [
    "# 1. Preparing Our Data"
   ]
  },
  {
   "cell_type": "code",
   "execution_count": 9,
   "id": "a532a9be-7d29-40ff-a51c-88c33223747e",
   "metadata": {},
   "outputs": [],
   "source": [
    "import numpy as np\n",
    "import struct, gzip, os\n",
    "\n",
    "def _open_maybe_gz(path):\n",
    "    if path.endswith('.gz'):\n",
    "        return gzip.open(path, 'rb')\n",
    "    return open(path, 'rb')\n",
    "\n",
    "def load_images(path):\n",
    "    with _open_maybe_gz(path) as f:\n",
    "        magic, num, rows, cols = struct.unpack('>IIII', f.read(16))\n",
    "        buf = f.read(rows * cols * num)\n",
    "        data = np.frombuffer(buf, dtype=np.uint8).astype(np.float32)\n",
    "        return data.reshape(num, rows * cols) / 255.0\n",
    "\n",
    "def load_labels(path):\n",
    "    with _open_maybe_gz(path) as f:\n",
    "        magic, num = struct.unpack('>II', f.read(8))\n",
    "        buf = f.read(num)\n",
    "        data = np.frombuffer(buf, dtype=np.uint8).astype(np.int64)\n",
    "        return data\n",
    "\n",
    "\n",
    "x_train = load_images(\"data/train-images.idx3-ubyte\")   \n",
    "y_train = load_labels(\"data/train-labels.idx1-ubyte\")\n",
    "x_test  = load_images(\"data/t10k-images.idx3-ubyte\")\n",
    "y_test  = load_labels(\"data/t10k-labels.idx1-ubyte\")\n"
   ]
  },
  {
   "cell_type": "code",
   "execution_count": 10,
   "id": "e1067613-7060-4b6b-821a-6fc3a42ccd3f",
   "metadata": {},
   "outputs": [
    {
     "name": "stdout",
     "output_type": "stream",
     "text": [
      "(60000, 784) (60000,)\n"
     ]
    }
   ],
   "source": [
    "print(x_train.shape, y_train.shape)"
   ]
  },
  {
   "cell_type": "markdown",
   "id": "048904cb-a344-4a66-9487-bc27fc389475",
   "metadata": {},
   "source": [
    "### One-hot encoding"
   ]
  },
  {
   "cell_type": "code",
   "execution_count": 11,
   "id": "3523a3c8-1454-4bb9-b474-4095d17037c2",
   "metadata": {},
   "outputs": [],
   "source": [
    "num_classes = 10\n",
    "y_train_oh = np.eye(num_classes)[y_train]\n",
    "y_test_oh  = np.eye(num_classes)[y_test]"
   ]
  },
  {
   "cell_type": "markdown",
   "id": "caf1d550-7960-4485-9cef-2c94102a3989",
   "metadata": {},
   "source": [
    "# 2. Utiliyy functions"
   ]
  },
  {
   "cell_type": "markdown",
   "id": "b738b083-23da-49a9-8c3e-77d2b5b24a45",
   "metadata": {},
   "source": [
    "### ReLU function"
   ]
  },
  {
   "cell_type": "code",
   "execution_count": null,
   "id": "b9b46771-8ad3-4f5b-9ffc-b4e385438bbe",
   "metadata": {},
   "outputs": [],
   "source": [
    "def relu(x): return np.maximum(0, x)\n",
    "def relu_deriv(x): return (x > 0).astype(np.float32)"
   ]
  },
  {
   "cell_type": "markdown",
   "id": "6cb30332-9b76-47cf-ada5-75df9a188ff3",
   "metadata": {},
   "source": [
    "### Softmax Function(For probability distibution)"
   ]
  },
  {
   "cell_type": "code",
   "execution_count": null,
   "id": "5540e73e-e100-4535-bc11-ee3cc0f8f6e0",
   "metadata": {},
   "outputs": [],
   "source": [
    "def softmax(z):\n",
    "    z = z - np.max(z, axis=1, keepdims=True)   # stability\n",
    "    expz = np.exp(z)\n",
    "    return expz / np.sum(expz, axis=1, keepdims=True)"
   ]
  },
  {
   "cell_type": "markdown",
   "id": "719e8519-e5a2-465d-ba34-ec28b2e10dd5",
   "metadata": {},
   "source": [
    "### Cross entropy loss"
   ]
  },
  {
   "cell_type": "code",
   "execution_count": 1,
   "id": "8928b568-c119-4065-8825-56a2e0ca6618",
   "metadata": {},
   "outputs": [],
   "source": [
    "def cross_entropy_loss(y_true, y_pred):\n",
    "    m = y_true.shape[0]\n",
    "    return -np.sum(y_true * np.log(y_pred + 1e-12)) / m"
   ]
  },
  {
   "cell_type": "markdown",
   "id": "52e6ab9d-b454-4750-978d-5e145d50ec28",
   "metadata": {},
   "source": [
    "# Main Class "
   ]
  },
  {
   "cell_type": "code",
   "execution_count": null,
   "id": "d1ae0ce5-20d6-438d-aa8c-1bc62c525e48",
   "metadata": {},
   "outputs": [],
   "source": [
    "class NeuralNetwork:\n",
    "    # constructor\n",
    "    def __init__(self, layers , learningRate = 0.1 , seed =42):\n",
    "        np.random.seed(seed)\n",
    "        self.layers = layers\n",
    "        self.learningRate = learningRate\n",
    "        self.L = len(layers) - 1\n",
    "        self.weights =[]\n",
    "        self.bias =[]\n",
    "\n",
    "        for i in range(self.L):\n",
    "            input_dim = layers[i]\n",
    "            output_dim = layers[i+1]\n",
    "\n",
    "            weights = np.random.randn(input_dim,output_dim) * np.sqrt(2.0 / max(1, input_dim))\n",
    "            bias = np.zeroes((1,output_dim) ,dtype = np.float32)\n",
    "\n",
    "            sef.weights.append(weights.astype(np.float32))\n",
    "            self.bias.append(bias)\n",
    "\n",
    "    def feed_forward(self,X):\n",
    "        A = X\n",
    "        self.As = [A]\n",
    "        self.Zs = []\n",
    "        for i in range(self.L):\n",
    "            Z = A @ self.weights[i] + self.bias[i]\n",
    "            self.Zs.append(Z)\n",
    "            if i == self.L - 1:\n",
    "                A = softmax(Z)\n",
    "            else:\n",
    "                A = relu(Z)\n",
    "            self.As.append(A)\n",
    "        return A\n",
    "\n",
    "    def back_propagation(self , X , y_true):\n",
    "        m = X.shape[0]\n",
    "        y_pred = self.As[-1]\n",
    "        dZ = (y_pred - Y_true) / m\n",
    "        \n",
    "        for i in reversed(range(self.L)):\n",
    "            A_prev = self.As[i]\n",
    "            dw = A_prev.T @ dZ\n",
    "            db = np.sum(dZ , axis=0 , keepdims=True)\n",
    "\n",
    "            self.w[i] -= self.learningRate * dw\n",
    "            self.b[i] -= self.learningRate * db\n",
    "\n",
    "            if i > 0 :\n",
    "                dA_prev = dZ @ self.weights[i].T\n",
    "                dZ = dA_prev * relu_deriv(self.Zs[i-1])"
   ]
  }
 ],
 "metadata": {
  "kernelspec": {
   "display_name": "Python 3 (ipykernel)",
   "language": "python",
   "name": "python3"
  },
  "language_info": {
   "codemirror_mode": {
    "name": "ipython",
    "version": 3
   },
   "file_extension": ".py",
   "mimetype": "text/x-python",
   "name": "python",
   "nbconvert_exporter": "python",
   "pygments_lexer": "ipython3",
   "version": "3.12.11"
  }
 },
 "nbformat": 4,
 "nbformat_minor": 5
}
