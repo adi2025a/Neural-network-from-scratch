{
 "cells": [
  {
   "cell_type": "markdown",
   "id": "f6897731-aa8d-41be-94a8-bd0a846064c8",
   "metadata": {},
   "source": [
    "# 1. Preparing Our Data"
   ]
  },
  {
   "cell_type": "code",
   "execution_count": 9,
   "id": "a532a9be-7d29-40ff-a51c-88c33223747e",
   "metadata": {},
   "outputs": [],
   "source": [
    "import numpy as np\n",
    "import struct, gzip, os\n",
    "\n",
    "def _open_maybe_gz(path):\n",
    "    if path.endswith('.gz'):\n",
    "        return gzip.open(path, 'rb')\n",
    "    return open(path, 'rb')\n",
    "\n",
    "def load_images(path):\n",
    "    with _open_maybe_gz(path) as f:\n",
    "        magic, num, rows, cols = struct.unpack('>IIII', f.read(16))\n",
    "        buf = f.read(rows * cols * num)\n",
    "        data = np.frombuffer(buf, dtype=np.uint8).astype(np.float32)\n",
    "        return data.reshape(num, rows * cols) / 255.0\n",
    "\n",
    "def load_labels(path):\n",
    "    with _open_maybe_gz(path) as f:\n",
    "        magic, num = struct.unpack('>II', f.read(8))\n",
    "        buf = f.read(num)\n",
    "        data = np.frombuffer(buf, dtype=np.uint8).astype(np.int64)\n",
    "        return data\n",
    "\n",
    "\n",
    "x_train = load_images(\"data/train-images.idx3-ubyte\")   \n",
    "y_train = load_labels(\"data/train-labels.idx1-ubyte\")\n",
    "x_test  = load_images(\"data/t10k-images.idx3-ubyte\")\n",
    "y_test  = load_labels(\"data/t10k-labels.idx1-ubyte\")\n"
   ]
  },
  {
   "cell_type": "code",
   "execution_count": 10,
   "id": "e1067613-7060-4b6b-821a-6fc3a42ccd3f",
   "metadata": {},
   "outputs": [
    {
     "name": "stdout",
     "output_type": "stream",
     "text": [
      "(60000, 784) (60000,)\n"
     ]
    }
   ],
   "source": [
    "print(x_train.shape, y_train.shape)"
   ]
  },
  {
   "cell_type": "markdown",
   "id": "048904cb-a344-4a66-9487-bc27fc389475",
   "metadata": {},
   "source": [
    "### One-hot encoding"
   ]
  },
  {
   "cell_type": "code",
   "execution_count": 11,
   "id": "3523a3c8-1454-4bb9-b474-4095d17037c2",
   "metadata": {},
   "outputs": [],
   "source": [
    "num_classes = 10\n",
    "y_train_oh = np.eye(num_classes)[y_train]\n",
    "y_test_oh  = np.eye(num_classes)[y_test]"
   ]
  },
  {
   "cell_type": "markdown",
   "id": "caf1d550-7960-4485-9cef-2c94102a3989",
   "metadata": {},
   "source": [
    "# 2. Utiliyy functions"
   ]
  },
  {
   "cell_type": "markdown",
   "id": "b738b083-23da-49a9-8c3e-77d2b5b24a45",
   "metadata": {},
   "source": [
    "### ReLU function"
   ]
  },
  {
   "cell_type": "code",
   "execution_count": null,
   "id": "b9b46771-8ad3-4f5b-9ffc-b4e385438bbe",
   "metadata": {},
   "outputs": [],
   "source": [
    "def relu(x): return np.maximum(0, x)\n",
    "def relu_deriv(x): return (x > 0).astype(np.float32)"
   ]
  },
  {
   "cell_type": "markdown",
   "id": "6cb30332-9b76-47cf-ada5-75df9a188ff3",
   "metadata": {},
   "source": [
    "### Softmax Function(For probability distibution)"
   ]
  },
  {
   "cell_type": "code",
   "execution_count": null,
   "id": "5540e73e-e100-4535-bc11-ee3cc0f8f6e0",
   "metadata": {},
   "outputs": [],
   "source": [
    "def softmax(z):\n",
    "    z = z - np.max(z, axis=1, keepdims=True)   # stability\n",
    "    expz = np.exp(z)\n",
    "    return expz / np.sum(expz, axis=1, keepdims=True)"
   ]
  },
  {
   "cell_type": "markdown",
   "id": "719e8519-e5a2-465d-ba34-ec28b2e10dd5",
   "metadata": {},
   "source": [
    "### Cross entropy loss"
   ]
  },
  {
   "cell_type": "code",
   "execution_count": null,
   "id": "8928b568-c119-4065-8825-56a2e0ca6618",
   "metadata": {},
   "outputs": [],
   "source": [
    "def cross_entropy_loss(y_true, y_pred):\n",
    "    m = y_true.shape[0]\n",
    "    return -np.sum(y_true * np.log(y_pred + 1e-12)) / m"
   ]
  },
  {
   "cell_type": "markdown",
   "id": "4f52f503-df93-4552-8adc-ccac917682c9",
   "metadata": {},
   "source": [
    "### Main Class"
   ]
  },
  {
   "cell_type": "code",
   "execution_count": 12,
   "id": "98c5afc1-d16a-4fdb-a61c-12bddb5115b2",
   "metadata": {},
   "outputs": [],
   "source": [
    "class SimpleMLP:\n",
    "    def __init__(self, layers, lr=0.1, seed=42):\n",
    "        np.random.seed(seed)\n",
    "        self.layers = layers\n",
    "        self.lr = lr\n",
    "        self.L = len(layers) - 1\n",
    "        self.W = []\n",
    "        self.b = []\n",
    "        for i in range(self.L):\n",
    "            in_dim = layers[i]\n",
    "            out_dim = layers[i+1]\n",
    "            # He init (good for ReLU)\n",
    "            W = np.random.randn(in_dim, out_dim) * np.sqrt(2.0 / max(1, in_dim))\n",
    "            b = np.zeros((1, out_dim), dtype=np.float32)\n",
    "            self.W.append(W.astype(np.float32))\n",
    "            self.b.append(b)\n",
    "\n",
    "    def forward(self, X):\n",
    "        A = X\n",
    "        self.As = [A] \n",
    "        self.Zs = []\n",
    "        for i in range(self.L):\n",
    "            Z = A @ self.W[i] + self.b[i]\n",
    "            self.Zs.append(Z)\n",
    "            if i == self.L - 1:\n",
    "                A = softmax(Z) \n",
    "            else:\n",
    "                A = relu(Z) \n",
    "            self.As.append(A)\n",
    "        return A\n",
    "\n",
    "    def backward(self, X, y_true):\n",
    "        m = X.shape[0]\n",
    "        y_pred = self.As[-1]\n",
    "        dZ = (y_pred - y_true) / m \n",
    "        for i in reversed(range(self.L)):\n",
    "            A_prev = self.As[i]\n",
    "            dW = A_prev.T @ dZ\n",
    "            db = np.sum(dZ, axis=0, keepdims=True)\n",
    "            \n",
    "            self.W[i] -= self.lr * dW\n",
    "            self.b[i] -= self.lr * db\n",
    "            if i > 0:\n",
    "                dA_prev = dZ @ self.W[i].T\n",
    "                dZ = dA_prev * relu_deriv(self.Zs[i-1])\n",
    "\n",
    "    def predict(self, X):\n",
    "        probs = self.forward(X)\n",
    "        return np.argmax(probs, axis=1)\n",
    "\n",
    "    def evaluate(self, X, y_labels):\n",
    "        preds = self.predict(X)\n",
    "        return np.mean(preds == y_labels)\n"
   ]
  },
  {
   "cell_type": "markdown",
   "id": "9cf8d37d-8a00-4fcb-b4eb-76e8331a4202",
   "metadata": {},
   "source": [
    "# Training function"
   ]
  },
  {
   "cell_type": "code",
   "execution_count": 13,
   "id": "60484d6f-991d-41fe-a548-4ff85bd9856e",
   "metadata": {},
   "outputs": [],
   "source": [
    "from tqdm import trange\n",
    "def train(model, X, y_oh, X_val, y_val_labels, epochs=10, batch_size=128):\n",
    "    n = X.shape[0]\n",
    "    for epoch in range(epochs):\n",
    "        # shuffle\n",
    "        idx = np.random.permutation(n)\n",
    "        X_sh, y_sh = X[idx], y_oh[idx]\n",
    "        for i in range(0, n, batch_size):\n",
    "            xb = X_sh[i:i+batch_size]\n",
    "            yb = y_sh[i:i+batch_size]\n",
    "            y_pred = model.forward(xb)\n",
    "            loss = cross_entropy_loss(yb, y_pred)\n",
    "            model.backward(xb, yb)\n",
    "        train_acc = model.evaluate(X, np.argmax(y_oh, axis=1))\n",
    "        val_acc = model.evaluate(X_val, y_val_labels)\n",
    "        print(f\"Epoch {epoch+1}/{epochs}  Loss: {loss:.4f}  Train Acc: {train_acc:.4f}  Val Acc: {val_acc:.4f}\")\n"
   ]
  },
  {
   "cell_type": "markdown",
   "id": "dfedd5a7-18a2-4c04-bb15-88dce54c9047",
   "metadata": {},
   "source": [
    "# Training"
   ]
  },
  {
   "cell_type": "code",
   "execution_count": 14,
   "id": "57cbec0b-49a1-4ab4-9754-00322270a4f4",
   "metadata": {},
   "outputs": [
    {
     "name": "stdout",
     "output_type": "stream",
     "text": [
      "Epoch 1/10  Loss: 0.3948  Train Acc: 0.9105  Val Acc: 0.9145\n",
      "Epoch 2/10  Loss: 0.2408  Train Acc: 0.9339  Val Acc: 0.9332\n",
      "Epoch 3/10  Loss: 0.1810  Train Acc: 0.9442  Val Acc: 0.9459\n",
      "Epoch 4/10  Loss: 0.1378  Train Acc: 0.9539  Val Acc: 0.9519\n",
      "Epoch 5/10  Loss: 0.1037  Train Acc: 0.9593  Val Acc: 0.9562\n",
      "Epoch 6/10  Loss: 0.1471  Train Acc: 0.9633  Val Acc: 0.9598\n",
      "Epoch 7/10  Loss: 0.1508  Train Acc: 0.9674  Val Acc: 0.9636\n",
      "Epoch 8/10  Loss: 0.0432  Train Acc: 0.9710  Val Acc: 0.9665\n",
      "Epoch 9/10  Loss: 0.1313  Train Acc: 0.9715  Val Acc: 0.9665\n",
      "Epoch 10/10  Loss: 0.1295  Train Acc: 0.9749  Val Acc: 0.9697\n",
      "Test accuracy: 0.9697\n"
     ]
    }
   ],
   "source": [
    "model = SimpleMLP([784,128,10], lr=0.1)\n",
    "train(model, x_train, y_train_oh, x_test, y_test, epochs=10, batch_size=128)\n",
    "print(\"Test accuracy:\", model.evaluate(x_test, y_test))"
   ]
  },
  {
   "cell_type": "markdown",
   "id": "6f4b87e1-a97c-4f7a-a5ed-106afcd0e862",
   "metadata": {},
   "source": [
    "# Visualisation"
   ]
  },
  {
   "cell_type": "code",
   "execution_count": 15,
   "id": "e4ac52f4-323a-4b33-9a49-65383ae844aa",
   "metadata": {},
   "outputs": [
    {
     "data": {
      "image/png": "[encoded data removed]",
      "text/plain": [
       "<Figure size 640x480 with 1 Axes>"
      ]
     },
     "metadata": {},
     "output_type": "display_data"
    },
    {
     "name": "stdout",
     "output_type": "stream",
     "text": [
      "[0.000e+00 0.000e+00 0.000e+00 4.000e-04 3.000e-03 7.000e-04 0.000e+00\n",
      " 3.000e-04 2.000e-04 9.954e-01] sum: 0.99999994\n"
     ]
    }
   ],
   "source": [
    "import matplotlib.pyplot as plt\n",
    "i = 12\n",
    "img = x_test[i].reshape(28,28)\n",
    "plt.imshow(img, cmap='gray')\n",
    "plt.title(f\"True: {y_test[i]}  Pred: {model.predict(x_test[i:i+1])[0]}\")\n",
    "plt.axis('off')\n",
    "plt.show()\n",
    "\n",
    "probs = model.forward(x_test[i:i+1]).reshape(-1)\n",
    "print(np.round(probs, 4), \"sum:\", probs.sum())"
   ]
  }
 ],
 "metadata": {
  "kernelspec": {
   "display_name": "Python 3 (ipykernel)",
   "language": "python",
   "name": "python3"
  },
  "language_info": {
   "codemirror_mode": {
    "name": "ipython",
    "version": 3
   },
   "file_extension": ".py",
   "mimetype": "text/x-python",
   "name": "python",
   "nbconvert_exporter": "python",
   "pygments_lexer": "ipython3",
   "version": "3.12.4"
  }
 },
 "nbformat": 4,
 "nbformat_minor": 5
}
